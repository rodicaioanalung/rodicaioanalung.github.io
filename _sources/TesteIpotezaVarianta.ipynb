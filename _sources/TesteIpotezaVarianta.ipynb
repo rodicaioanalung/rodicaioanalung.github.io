{
 "cells": [
  {
   "cell_type": "markdown",
   "metadata": {
    "id": "zRPEarjT6wOl"
   },
   "source": [
    "# Teste de ipoteză (varianță)\n"
   ]
  },
  {
   "cell_type": "markdown",
   "metadata": {
    "id": "TnOEiY5WiRUO"
   },
   "source": [
    "\n",
    "\n",
    "> Problema 1: Controlul consistenței umidității în procesul de producție de hârtie\n",
    "\n",
    "O fabrică de hârtie are ca specificație o  abatere medie pătratică  a umidității de 1,5% în timpul producției pentru a asigura calitatea produsului. Inginerii fabricii cred că recent varianța umidității ar putea fi mai mare, afectând astfel calitatea finală. Ei colectează un eșantion de 20 de foi de hârtie și măsoară umiditatea pentru fiecare. Eșantionul prezintă o varianță de 3%².\n",
    "\n",
    "Verificați dacă varianța umidității este semnificativ diferită de valoarea specificată, presupunând că distribuția umidității este normală, folosind un nivel de încredere de 95%.\n",
    "\n",
    "\n",
    "\n",
    "> Problema 2: Consistența dimensiunii firului de ață într-o fabrică textilă\n",
    "\n",
    "O fabrică textilă produce fire de ață cu diametrul mediu specificat, iar  abaterea medie pătratică  acceptată pentru diametru este de 0,02 mm, ceea ce corespunde unei varianțe de 0,0004 mm². Pentru a verifica dacă standardul este respectat, inginerii prelevează un eșantion de 30 de fire de ață și măsoară diametrul fiecărui fir, obținând o varianță a eșantionului de 0,0005 mm².\n",
    "\n",
    "Se poate concluziona că varianța diametrului firelor este diferită de valoarea specificată? Presupuneți că diametrul firelor de ață este normal distribuit.\n",
    "\n",
    "\n",
    "\n",
    "> Problema 3: Precizia unui termometru medical\n",
    "\n",
    "Un producător de termometre dorește să se asigure că variațiile în măsurătorile termometrului sunt în limite acceptabile. Se specifică o  abatere medie pătratică  de 0,1°C a erorii de măsurare, corespunzând unei varianțe de 0,01°C². Producătorul prelevează un eșantion de 50 de termometre și măsoară variația erorii, obținând o varianță a eșantionului de 0,015°C².\n",
    "\n",
    "Verificați dacă varianța în erorile de măsurare este semnificativ diferită de cea specificată, presupunând că erorile de măsurare sunt normal distribuite.\n",
    "\n",
    "\n",
    "\n",
    "> Problema 4: Uniformitatea grosimii sticlei produse într-o fabrică\n",
    "\n",
    "O fabrică de sticlă produce foi de sticlă cu grosime standardizată, unde  abatere medie pătratică  acceptată a grosimii este de 0,3 mm, ceea ce corespunde unei varianțe de 0,09 mm². Pentru a verifica consistența grosimii, se prelevează un eșantion de 25 de foi de sticlă, iar măsurătorile arată o varianță de 0,12 mm².\n",
    "\n",
    "Determină dacă varianța grosimii este semnificativ mai mare decât cea specificată, presupunând că grosimea este normal distribuită.\n",
    "\n",
    "\n",
    "\n",
    "> Problema 5: Stabilitatea nivelului de zgomot al unui motor electric\n",
    "\n",
    "Un producător de motoare electrice specifică o  abatere medie pătratică  a nivelului de zgomot de 2 dB, pentru a menține un nivel de zgomot stabil și constant. Aceasta corespunde unei varianțe de 4 dB². Pentru a testa stabilitatea zgomotului, inginerii colectează un eșantion de 40 de motoare și măsoară variațiile nivelului de zgomot, obținând o varianță de 5 dB².\n",
    "\n",
    "Testați dacă varianța nivelului de zgomot este semnificativ mai mare decât valoarea specificată, având în vedere că nivelul de zgomot este normal distribuit.\n",
    "\n",
    "---\n",
    "\n"
   ]
  },
  {
   "cell_type": "markdown",
   "metadata": {
    "id": "6OBqfDoq6_9V"
   },
   "source": [
    "\n",
    "\n",
    "> Problema 1: Stabilitatea temperaturii în două frigidere de tipuri diferite\n",
    "\n",
    "Un laborator de testare a electrocasnicelor dorește să compare stabilitatea temperaturii între două modele de frigidere (Model A și Model B). Frigiderele sunt setate să mențină o temperatură constantă, iar variațiile de temperatură sunt măsurate pe o perioadă de o săptămână pentru fiecare model.\n",
    "\n",
    "- **Model A**: 12 măsurători,  abaterea medie pătratică  $s_1 = 0,5$ °C.\n",
    "- **Model B**: 10 măsurători,  abaterea medie pătratică  $s_2 = 0,3$ °C.\n",
    "\n",
    "Laboratorul dorește să verifice dacă există o diferență semnificativă în varianțele temperaturii între cele două modele. Se presupune că  temperaturile sunt normal distribuite.\n",
    "\n",
    "\n",
    "\n",
    "> Problema 2: Consistența timpului de răspuns a două servere de internet\n",
    "\n",
    "O companie de tehnologie dorește să compare consistența timpului de răspuns între două servere, Serverul X și Serverul Y. Ei monitorizează timpul de răspuns pe parcursul unei zile.\n",
    "\n",
    "- **Serverul X**: eșantion de 15 măsurători,  abaterea medie pătratică  $s_1 = 0,8$ secunde.\n",
    "- **Serverul Y**: eșantion de 20 de măsurători,  abaterea medie pătratică  $s_2 = 1,1$ secunde.\n",
    "\n",
    "Compania vrea să verifice dacă diferența dintre varianțele timpilor de răspuns este semnificativă, presupunând că timpii de răspuns sunt normal distribuiți.\n",
    "\n",
    "\n",
    "\n",
    "> Problema 3: Compararea varianțelor pentru înălțimea plantelor de roșii crescute în sere diferite\n",
    "\n",
    "Un agronom studiază înălțimea plantelor de roșii cultivate în două sere diferite, Sera A și Sera B, pentru a observa dacă există diferențe în varianțele creșterii plantelor. El măsoară înălțimea unui eșantion de plante din fiecare seră.\n",
    "\n",
    "- **Seră A**: 18 plante,  abaterea medie pătratică  $s_1 = 3,5$ cm.\n",
    "- **Seră B**: 15 plante,  abaterea medie pătratică  $s_2 = 2,8$ cm.\n",
    "\n",
    "Agronomul dorește să determine dacă există o diferență semnificativă între varianțele înălțimii plantelor între cele două sere. Se presupune că înălțimile plantelor sunt normal distribuite.\n",
    "\n",
    "\n",
    "\n",
    "> Problema 4: Variabilitatea performanței între două tipuri de combustibil pentru motoare\n",
    "\n",
    "O companie auto compară performanța motoarelor atunci când sunt alimentate cu două tipuri diferite de combustibil (Combustibil A și Combustibil B). Varianțele consumului de combustibil este măsurată pentru fiecare motor în cadrul unor teste de anduranță.\n",
    "\n",
    "- **Combustibil A**: 10 motoare,  abaterea medie pătratică  $s_1 = 0,6$ litri/100 km.\n",
    "- **Combustibil B**: 12 motoare,  abaterea medie pătratică  $s_2 = 0,9$ litri/100 km.\n",
    "\n",
    "Compania dorește să știe dacă există o diferență semnificativă între varianțele consumului pentru cele două tipuri de combustibil, presupunând că datele sunt normal distribuite.\n",
    "\n",
    "\n",
    "> Problema 5: Consistența grosimii vopselei aplicate de două mașini automate\n",
    "\n",
    "O fabrică de produse metalice folosește două mașini automate pentru a aplica un strat de vopsea pe produsele sale. Managerul dorește să compare variabilitatea grosimii stratului de vopsea aplicat de fiecare mașină, pentru a evalua consistența între acestea.\n",
    "\n",
    "- **Mașina 1**: 16 măsurători,  abaterea medie pătratică  $s_1 = 0,12$ mm.\n",
    "- **Mașina 2**: 14 măsurători,  abaterea medie pătratică  $s_2 = 0,15$ mm.\n",
    "\n",
    "Managerul dorește să determine dacă există o diferență semnificativă între varianțele grosimii stratului de vopsea aplicat de cele două mașini, presupunând că grosimea este normal distribuită.\n",
    "\n",
    "---"
   ]
  }
 ],
 "metadata": {
  "colab": {
   "authorship_tag": "ABX9TyNBpPdwr37Gy3GPWmwVfNuO",
   "provenance": []
  },
  "kernelspec": {
   "display_name": "Python 3",
   "name": "python3"
  },
  "language_info": {
   "name": "python"
  }
 },
 "nbformat": 4,
 "nbformat_minor": 0
}
