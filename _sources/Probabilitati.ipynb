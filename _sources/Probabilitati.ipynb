{
 "cells": [
  {
   "cell_type": "markdown",
   "metadata": {},
   "source": [
    "# Probabilități"
   ]
  },
  {
   "cell_type": "markdown",
   "metadata": {
    "id": "eWkUccEHex8V"
   },
   "source": [
    "\n",
    "\n",
    "**Problema 1**: Într-o clasă, 30 de elevi studiază matematică, 25 studiază fizică și 10 elevi studiază atât matematică, cât și fizică. Care este probabilitatea ca un elev ales la întâmplare să studieze fie matematică, fie fizică?\n",
    "\n",
    "  \n",
    "**Problema 2**: La un turneu de fotbal participă 40 de echipe, dintre care 15 echipe au jucători care joacă în echipe de club și 10 echipe au jucători care joacă pentru selecționata națională. Dacă 5 echipe au jucători atât în echipele de club, cât și la selecționata națională, care este probabilitatea ca o echipă aleasă la întâmplare să aibă jucători fie în echipele de club, fie la selecționata națională?\n"
   ]
  },
  {
   "cell_type": "markdown",
   "metadata": {
    "id": "Mb7il0m8fKNf"
   },
   "source": [
    "\n",
    "\n",
    "**Problema 3**: Un magazin vinde două tipuri de produse: produse electronice și accesorii. Probabilitatea de a vinde un produs electronic este de 0,6, iar probabilitatea de a vinde un accesoriu este de 0,4. Ce probabilitate există ca magazinul să vândă atât un produs electronic, cât și un accesoriu în aceeași zi?\n",
    "\n",
    "  \n",
    "\n",
    "**Problema 4**: La un examen de matematică, un student are o probabilitate de 0,7 de a răspunde corect la prima întrebare și o probabilitate de 0,8 de a răspunde corect la a doua întrebare. Ce probabilitate există ca studentul să răspundă corect la ambele întrebări?\n",
    "\n",
    "   "
   ]
  },
  {
   "cell_type": "markdown",
   "metadata": {
    "id": "dJoittYQfOly"
   },
   "source": [
    "\n",
    "\n",
    "**Problema 5**: Într-un studiu despre obiceiurile de consum, s-a constatat că 70% dintre persoanele chestionate cumpără produse bio, iar 40% dintre cei care cumpără produse bio cumpără și produse fără gluten. Care este probabilitatea ca o persoană aleasă aleatoriu să cumpere atât produse bio, cât și produse fără gluten?\n",
    "\n",
    "\n",
    "\n",
    "**Problema 6**: La un examen de chimie, 60% dintre studenți au trecut testul de teorie, iar dintre cei care au trecut testul de teorie, 50% au trecut și testul practic. Care este probabilitatea ca un student ales aleatoriu să fi trecut atât testul de teorie, cât și testul practic?\n",
    "\n"
   ]
  },
  {
   "cell_type": "markdown",
   "metadata": {
    "id": "if5-hThyfgJs"
   },
   "source": [
    "\n",
    "\n",
    "**Problema 7**: La un spital, 80% dintre pacienți au un test pozitiv pentru o anumită boală, iar dintre aceștia, 90% au boala. 20% dintre pacienții cu test negativ nu au boala. Care este probabilitatea ca un pacient să aibă boala, dat fiind că testul său este pozitiv?\n",
    "\n",
    "\n",
    "\n",
    "**Problema 8**: Un producător de mașini are două modele: modelul A și modelul B. 60% din mașinile vândute sunt modelul A și 40% modelul B. Probabilitatea ca modelul A să aibă un defect este de 2%, iar probabilitatea ca modelul B să aibă un defect este de 5%. Care este probabilitatea ca o mașină aleasă aleatoriu să fie modelul A, dat fiind că are un defect?\n",
    "\n",
    "\n",
    "\n",
    "**Problema 9**: Într-o clasă, 70% dintre elevi sunt băieți și 30% sunt fete. 40% dintre băieți și 20% dintre fete participă la activități extracurriculare. Care este probabilitatea ca un elev să fie fată, dat fiind că participă la activități extracurriculare?\n",
    "\n"
   ]
  }
 ],
 "metadata": {
  "colab": {
   "authorship_tag": "ABX9TyOLIEGF1+CYvIgfR1YWD4ki",
   "provenance": []
  },
  "kernelspec": {
   "display_name": "Python 3",
   "name": "python3"
  },
  "language_info": {
   "name": "python"
  }
 },
 "nbformat": 4,
 "nbformat_minor": 0
}
