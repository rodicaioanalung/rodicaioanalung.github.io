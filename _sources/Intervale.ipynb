{
 "cells": [
  {
   "cell_type": "markdown",
   "metadata": {
    "id": "aUNopjWJbPSY"
   },
   "source": [
    "# Intervale de încredere"
   ]
  },
  {
   "cell_type": "markdown",
   "metadata": {
    "id": "5_9PsYRtbR4D"
   },
   "source": [
    "> Pentru următoarele probleme se consideră că populația e normal distribuită:\n",
    "\n",
    "**Problema 1**: Un cercetător a măsurat timpul de reacție al 30 de studenți la un test. Timpul mediu de reacție a fost de 250 ms, cu o deviație standard de 50 ms. Calculează intervalul de încredere de 95% pentru timpul mediu de reacție al populației.\n",
    "\n",
    "**Problema 2**: O companie a realizat un sondaj în rândul angajaților dintr-un domeniu de nișă, și a constatat că salariul mediu anual al unui eșantion de 50 de angajați este de 40.000 lei, cu o deviație standard de 8.000 lei. Determină intervalul de încredere de 99% pentru salariul mediu anual al tuturor angajaților pe acel domeniu.\n",
    "\n",
    "**Problema 3**: Într-un studiu privind consumul de apă al gospodăriilor, un eșantion de 25 de gospodării a avut un consum mediu de 150 litri pe zi, cu o deviație standard de 30 litri. Calculați intervalul de încredere de 90% pentru consumul mediu de apă al tuturor gospodăriilor din oraș.\n",
    "\n",
    "**Problema 4**: Un grup de cercetători a studiat greutatea medie a unei specii de pește. Într-un eșantion de 40 de pești, greutatea medie a fost de 2,5 kg, cu o deviație standard de 0,5 kg. Găsește intervalul de încredere de 95% pentru greutatea medie a populației.\n",
    "\n",
    "**Problema 5**: Un profesor de matematică a înregistrat notele la un test pentru 60 de elevi și a obținut o medie de 7,5 de puncte, cu o deviație standard de 0.10 puncte. Calculează intervalul de încredere de 95% pentru notele medii al elevilor din clasă."
   ]
  },
  {
   "cell_type": "markdown",
   "metadata": {
    "id": "CA2xTNO9d8MU"
   },
   "source": [
    "\n",
    "\n",
    "**Problema 6**: Un cercetător a efectuat un studiu asupra înălțimii medii a elevilor dintr-o școală. Știm că varianța înălțimii este de 64 cm², și că un eșantion de 100 de elevi a avut o înălțime medie de 160 cm. Calculează intervalul de încredere de 95% pentru înălțimea medie a tuturor elevilor din școală.\n",
    "\n",
    "**Problema 7**: O companie analizează durata medie de viață a unui tip de baterie. Varianța duratei de viață este cunoscută și este de 144 luni. Într-un eșantion de 36 de baterii, durata medie de viață observată a fost de 24 luni. Determină intervalul de încredere de 99% pentru durata medie de viață a bateriilor.\n",
    "\n",
    "**Problema 8**: Un studiu despre temperatura medie a apei într-un lac arată că, dintr-un eșantion de 50 de măsurători, temperatura medie a fost de 15°C. Varianța temperaturii este cunoscută și este de 4°C². Calculează intervalul de încredere de 90% pentru temperatura medie a apei din lac.\n",
    "\n",
    "**Problema 9**: O firmă a analizat greutatea medie a unui produs alimentar. Cu o varianta a greutății de 25 g², un eșantion de 64 de produse a avut o greutate medie de 200 g. Găsește intervalul de încredere de 95% pentru greutatea medie a tuturor produselor.\n",
    "\n",
    "**Problema 10**: Un profesor a evaluat performanțele elevilor la un test standardizat. Varianta scorurilor este de 36 puncte², iar dintr-un eșantion de 49 de elevi, scorul mediu a fost de 82 puncte. Calculează intervalul de încredere de 95% pentru scorul mediu al tuturor elevilor care au susținut testul."
   ]
  }
 ],
 "metadata": {
  "colab": {
   "authorship_tag": "ABX9TyPpazEgmLe0tPf4btGQbXGQ",
   "provenance": []
  },
  "kernelspec": {
   "display_name": "Python 3",
   "name": "python3"
  },
  "language_info": {
   "name": "python"
  }
 },
 "nbformat": 4,
 "nbformat_minor": 0
}
