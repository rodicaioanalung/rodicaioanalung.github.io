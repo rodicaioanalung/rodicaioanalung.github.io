{
 "cells": [
  {
   "cell_type": "markdown",
   "metadata": {},
   "source": [
    "# Statistici descriptive"
   ]
  },
  {
   "cell_type": "markdown",
   "metadata": {
    "id": "AFgVDaELhZgT"
   },
   "source": [
    "\n",
    "\n",
    "**Problema 1**: Un profesor a notat 5 teste ale elevilor cu următoarele scoruri: 78, 85, 92, 88, 81. Calculează media și mediana acestor scoruri.\n",
    "\n",
    "**Problema 2**: Într-un sondaj, un grup de 10 persoane a raportat următoarele venituri lunare (în lei): 2000, 2500, 3000, 3500, 3000, 4000, 4500, 5000, 6000, 7000. Care este variația și abaterea standard a veniturilor?\n",
    "\n",
    "**Problema 3**: O echipă de fotbal a marcat următoarele puncte în 6 meciuri: 1, 3, 2, 5, 4, 0. Determină asimetria și boltirea distribuției scorurilor.\n",
    "\n",
    "**Problema 4**: Un grup de studenți a obținut următoarele note la un examen: 7, 9, 6, 8, 10, 5. Calculează media aritmetică și abaterea medie pătratică a notelor.\n",
    "\n",
    "**Problema 5**: O companie a înregistrat următoarele vânzări pe parcursul unei săptămâni (în mii lei): 10, 15, 20, 18, 25, 30, 22. Care este mediana și varianta vânzărilor?\n",
    "\n",
    "**Problema 6**: Un grup de 8 prieteni a mers la cinema, iar prețurile biletelor au fost: 15, 20, 15, 18, 25, 22, 20, 30. Calculează media și abaterea standard a prețurilor biletelor.\n",
    "\n",
    "**Problema 7**: Într-un test de aptitudini, următoarele scoruri au fost obținute: 45, 55, 60, 50, 70. Determină mediana și asimetria distribuției scorurilor.\n",
    "\n",
    "**Problema 8**: Un grup de cercetători a măsurat înălțimea a 10 copaci, obținând următoarele valori (în metri): 3.2, 4.5, 3.8, 4.0, 3.5, 4.1, 4.3, 4.6, 3.9, 4.2. Calculează media și boltirea înălțimilor.\n",
    "\n",
    "**Problema 9**: Un student a obținut următoarele note la 5 examene: 9, 8, 7, 10, 6. Care este variația și abaterea medie pătratică a notelor?\n",
    "\n",
    "**Problema 10**: Într-un atelier, 12 meșteșugari au realizat următoarele produse: 5, 7, 6, 8, 10, 12, 9, 11, 14, 10, 8, 7. Calculează media, mediana și varianta numărului de produse realizate."
   ]
  },
  {
   "cell_type": "code",
   "execution_count": null,
   "metadata": {
    "id": "Ro0RL9iQht0V"
   },
   "outputs": [],
   "source": []
  }
 ],
 "metadata": {
  "colab": {
   "authorship_tag": "ABX9TyPQqQ79VteAyAheY0lJo4G8",
   "provenance": []
  },
  "kernelspec": {
   "display_name": "Python 3",
   "name": "python3"
  },
  "language_info": {
   "name": "python"
  }
 },
 "nbformat": 4,
 "nbformat_minor": 0
}
