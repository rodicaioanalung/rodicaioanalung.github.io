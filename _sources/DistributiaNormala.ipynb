{
 "cells": [
  {
   "cell_type": "markdown",
   "metadata": {},
   "source": [
    "# Distribuția normală"
   ]
  },
  {
   "cell_type": "markdown",
   "metadata": {
    "id": "b0lc7zQogRkd"
   },
   "source": [
    "\n",
    "\n",
    "**Problema 1**: Într-o fabrică, greutatea unui produs are o distribuție normală cu o medie de 50 kg și o deviație standard de 5 kg. Care este probabilitatea ca un produs ales aleatoriu să aibă o greutate mai mică de 47 kg?\n",
    "\n",
    "**Problema 2**: Într-un studiu despre înălțimea bărbaților, s-a constatat că înălțimea are o medie de 175 cm și o deviație standard de 10 cm. Care este probabilitatea ca un bărbat ales la întâmplare să aibă o înălțime între 170 cm și 180 cm? (se presupune ca înălțimea urmează o distribuție normală)\n",
    "\n",
    "**Problema 3**: Timpul mediu de așteptare într-un restaurant este distribuit normal cu o medie de 12 minute și o deviație standard de 3 minute. Care este probabilitatea ca un client să aștepte mai mult de 15 minute?\n",
    "\n",
    "**Problema 4**: La un test standardizat, scorurile au o medie de 80 puncte și o deviație standard de 12 puncte. Care este probabilitatea ca un elev să obțină un scor mai mic de 70 puncte? (se presupune că scorurile urmează o distribuție normală)\n",
    "\n",
    "**Problema 5**: Un fabricant de anvelope știe că durata de viață a anvelopelor sale este distribuită normal cu o medie de 60.000 km și o deviație standard de 8.000 km. Care este probabilitatea ca o anvelopă să dureze între 55.000 km și 65.000 km?\n",
    "\n",
    "**Problema 6**: Greutatea medie a unui măr este distribuită normal, cu o medie de 150 g și o deviație standard de 20 g. Care este probabilitatea ca un măr ales aleatoriu să cântărească mai mult de 160 g?\n",
    "\n",
    "**Problema 7**: La un concurs de gătit, timpul mediu de gătire este distribuit normal cu o medie de 45 de minute și o deviație standard de 10 minute. Care este probabilitatea ca un concurent să termine gătitul în mai puțin de 40 de minute?\n",
    "\n",
    "**Problema 8**: Într-un studiu asupra scorurilor la un examen, media este de 75 puncte, cu o deviație standard de 5 puncte. Care este probabilitatea ca un student să obțină un scor între 70 și 80 puncte? (se presupune că scorurile urmează o distribuție normală)\n",
    "\n",
    "**Problema 9**: Timpul mediu de livrare pentru o companie de curierat este distribuit normal, cu o medie de 24 de ore și o deviație standard de 6 ore. Care este probabilitatea ca un pachet să fie livrat în mai puțin de 18 ore?\n",
    "\n",
    "**Problema 10**: Într-o cercetare despre consumul de apă, s-a observat că media este de 200 litri pe săptămână, cu o deviație standard de 30 litri. Care este probabilitatea ca o gospodărie să consume între 180 și 240 litri pe săptămână? (se presupune că consumul de apă urmează o distribuție normală)"
   ]
  }
 ],
 "metadata": {
  "colab": {
   "authorship_tag": "ABX9TyN8+nTl7hCSdFY4oM9jC+93",
   "provenance": []
  },
  "kernelspec": {
   "display_name": "Python 3",
   "name": "python3"
  },
  "language_info": {
   "name": "python"
  }
 },
 "nbformat": 4,
 "nbformat_minor": 0
}
